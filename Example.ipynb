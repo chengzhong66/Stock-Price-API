{
 "cells": [
  {
   "cell_type": "code",
   "execution_count": 18,
   "metadata": {},
   "outputs": [
    {
     "name": "stdout",
     "output_type": "stream",
     "text": [
      "Looking in indexes: https://test.pypi.org/simple/\n",
      "Collecting stock-price-cz\n",
      "  Downloading https://test-files.pythonhosted.org/packages/83/15/164f01f101c1f118597aaf245f1adf6d835fe35dce3c8fbf2720d76424b3/stock_price_cz-0.1.2-py3-none-any.whl (5.0 kB)\n",
      "Installing collected packages: stock-price-cz\n",
      "Successfully installed stock-price-cz-0.1.2\n",
      "Note: you may need to restart the kernel to use updated packages.\n"
     ]
    }
   ],
   "source": [
    "pip install -i https://test.pypi.org/simple/ stock-price-cz"
   ]
  },
  {
   "cell_type": "code",
   "execution_count": 19,
   "metadata": {},
   "outputs": [],
   "source": [
    "from stock_price_cz import stock_info\n",
    "import pandas as pd\n",
    "import matplotlib.pyplot as plt\n",
    "import requests\n",
    "import json"
   ]
  },
  {
   "cell_type": "code",
   "execution_count": 20,
   "metadata": {},
   "outputs": [
    {
     "name": "stdout",
     "output_type": "stream",
     "text": [
      "     currency                   description displaySymbol    symbol type\n",
      "0         USD      AGILENT TECHNOLOGIES INC             A         A  EQS\n",
      "1         USD                    ALCOA CORP            AA        AA  EQS\n",
      "2               AAF FIRST PRIORITY CLO BOND           AAA       AAA     \n",
      "3         USD  PERTH MINT PHYSICAL GOLD ETF          AAAU      AAAU  ETF\n",
      "4         USD   ATA CREATIVITY GLOBAL - ADR          AACG      AACG   DR\n",
      "...       ...                           ...           ...       ...  ...\n",
      "9464                               ICON USD       ICXUSDT   ICXUSDT     \n",
      "9465                                NEO USD       NEOUSDT   NEOUSDT     \n",
      "9466                            VeChain USD       VENUSDT   VENUSDT     \n",
      "9467                     Stellar Lumens USD       XLMUSDT   XLMUSDT     \n",
      "9468                               Qtum USD      QTUMUSDT  QTUMUSDT     \n",
      "\n",
      "[9469 rows x 5 columns]\n"
     ]
    }
   ],
   "source": [
    "stock_info.obtain_stock_description()"
   ]
  },
  {
   "cell_type": "code",
   "execution_count": 21,
   "metadata": {},
   "outputs": [
    {
     "data": {
      "text/html": [
       "<div>\n",
       "<style scoped>\n",
       "    .dataframe tbody tr th:only-of-type {\n",
       "        vertical-align: middle;\n",
       "    }\n",
       "\n",
       "    .dataframe tbody tr th {\n",
       "        vertical-align: top;\n",
       "    }\n",
       "\n",
       "    .dataframe thead th {\n",
       "        text-align: right;\n",
       "    }\n",
       "</style>\n",
       "<table border=\"1\" class=\"dataframe\">\n",
       "  <thead>\n",
       "    <tr style=\"text-align: right;\">\n",
       "      <th></th>\n",
       "      <th>country</th>\n",
       "      <th>currency</th>\n",
       "      <th>exchange</th>\n",
       "      <th>finnhubIndustry</th>\n",
       "      <th>ipo</th>\n",
       "      <th>logo</th>\n",
       "      <th>marketCapitalization</th>\n",
       "      <th>name</th>\n",
       "      <th>phone</th>\n",
       "      <th>shareOutstanding</th>\n",
       "      <th>ticker</th>\n",
       "      <th>weburl</th>\n",
       "    </tr>\n",
       "  </thead>\n",
       "  <tbody>\n",
       "    <tr>\n",
       "      <th>0</th>\n",
       "      <td>US</td>\n",
       "      <td>USD</td>\n",
       "      <td>NASDAQ NMS - GLOBAL MARKET</td>\n",
       "      <td>Technology</td>\n",
       "      <td>1980-12-12</td>\n",
       "      <td>https://static.finnhub.io/logo/87cb30d8-80df-1...</td>\n",
       "      <td>2103973</td>\n",
       "      <td>Apple Inc</td>\n",
       "      <td>14089961010</td>\n",
       "      <td>17001.802</td>\n",
       "      <td>AAPL</td>\n",
       "      <td>https://www.apple.com/</td>\n",
       "    </tr>\n",
       "  </tbody>\n",
       "</table>\n",
       "</div>"
      ],
      "text/plain": [
       "  country currency                    exchange finnhubIndustry         ipo  \\\n",
       "0      US      USD  NASDAQ NMS - GLOBAL MARKET      Technology  1980-12-12   \n",
       "\n",
       "                                                logo  marketCapitalization  \\\n",
       "0  https://static.finnhub.io/logo/87cb30d8-80df-1...               2103973   \n",
       "\n",
       "        name        phone  shareOutstanding ticker                  weburl  \n",
       "0  Apple Inc  14089961010         17001.802   AAPL  https://www.apple.com/  "
      ]
     },
     "execution_count": 21,
     "metadata": {},
     "output_type": "execute_result"
    }
   ],
   "source": [
    "stock_info.obtain_company_profile('AAPL')"
   ]
  },
  {
   "cell_type": "code",
   "execution_count": 22,
   "metadata": {},
   "outputs": [
    {
     "name": "stdout",
     "output_type": "stream",
     "text": [
      "['AAPL', 'DELL', 'HPQ', '1337.HK', 'WDC', 'HPE', 'NTAP', 'PSTG', 'XRX', 'NCR']\n"
     ]
    }
   ],
   "source": [
    "stock_info.competitors('AAPL')"
   ]
  },
  {
   "cell_type": "code",
   "execution_count": 25,
   "metadata": {},
   "outputs": [
    {
     "name": "stdout",
     "output_type": "stream",
     "text": [
      "{'error': 'API limit reached. Please sign up for a free account to continue using the API.'}\n"
     ]
    }
   ],
   "source": [
    "stock_info.ipo_info(\"2020-04-01\",\"2020-04-03\")"
   ]
  }
 ],
 "metadata": {
  "kernelspec": {
   "display_name": "Python 3",
   "language": "python",
   "name": "python3"
  },
  "language_info": {
   "codemirror_mode": {
    "name": "ipython",
    "version": 3
   },
   "file_extension": ".py",
   "mimetype": "text/x-python",
   "name": "python",
   "nbconvert_exporter": "python",
   "pygments_lexer": "ipython3",
   "version": "3.8.3"
  }
 },
 "nbformat": 4,
 "nbformat_minor": 4
}
